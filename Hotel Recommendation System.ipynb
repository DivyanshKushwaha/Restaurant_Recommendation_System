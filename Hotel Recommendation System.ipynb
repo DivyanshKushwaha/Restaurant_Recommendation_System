{
 "cells": [
  {
   "cell_type": "code",
   "execution_count": 2,
   "id": "9f9560ae-b058-46f6-a2a7-8bb4356f5987",
   "metadata": {},
   "outputs": [],
   "source": [
    "import numpy as np"
   ]
  },
  {
   "cell_type": "code",
   "execution_count": 3,
   "id": "bbaeb958-5281-45aa-bd7a-dd6a12e0a4be",
   "metadata": {},
   "outputs": [],
   "source": [
    "import pandas as pd"
   ]
  },
  {
   "cell_type": "code",
   "execution_count": 4,
   "id": "49409ed0-39d1-4595-9136-bc1ea539816e",
   "metadata": {},
   "outputs": [],
   "source": [
    "import os, warnings"
   ]
  },
  {
   "cell_type": "code",
   "execution_count": 5,
   "id": "1e18a62b-81e2-40bb-a9c2-792ded6c91ce",
   "metadata": {},
   "outputs": [],
   "source": [
    "warnings.simplefilter('ignore')"
   ]
  },
  {
   "cell_type": "code",
   "execution_count": null,
   "id": "19514035-a353-4abf-9eec-e1bfe77adced",
   "metadata": {},
   "outputs": [],
   "source": [
    "import nltk\n",
    "nltk.download('all')\n",
    "from nltk.corpus import stopwords\n",
    "from nltk.tokenize import word_tokenize\n",
    "from ast import literal_eval"
   ]
  },
  {
   "cell_type": "code",
   "execution_count": 7,
   "id": "487ff4fe-8e31-4af8-9c95-4319fd801020",
   "metadata": {},
   "outputs": [],
   "source": [
    "from nltk.corpus import stopwords"
   ]
  },
  {
   "cell_type": "code",
   "execution_count": 8,
   "id": "96c4800f-72f1-4d5f-a4d4-e24d0cdd6d3e",
   "metadata": {},
   "outputs": [],
   "source": [
    "from nltk.tokenize import word_tokenize"
   ]
  },
  {
   "cell_type": "code",
   "execution_count": 9,
   "id": "506bf595-5d72-4758-ae9c-cc4463b6e654",
   "metadata": {},
   "outputs": [],
   "source": [
    "from ast import literal_eval"
   ]
  },
  {
   "cell_type": "code",
   "execution_count": 10,
   "id": "195243df-61e7-4ec7-aca0-d2b3fd395027",
   "metadata": {},
   "outputs": [],
   "source": [
    "df = pd.read_csv('restaurants.csv')"
   ]
  },
  {
   "cell_type": "code",
   "execution_count": null,
   "id": "1fc3d630-40c7-4e0c-bf36-afde725e061c",
   "metadata": {},
   "outputs": [
    {
     "ename": "KeyError",
     "evalue": "'city'",
     "output_type": "error",
     "traceback": [
      "\u001b[1;31m---------------------------------------------------------------------------\u001b[0m",
      "\u001b[1;31mKeyError\u001b[0m                                  Traceback (most recent call last)",
      "File \u001b[1;32mc:\\Users\\utkarsh\\AppData\\Local\\Programs\\Python\\Python312\\Lib\\site-packages\\pandas\\core\\indexes\\base.py:3805\u001b[0m, in \u001b[0;36mIndex.get_loc\u001b[1;34m(self, key)\u001b[0m\n\u001b[0;32m   3804\u001b[0m \u001b[38;5;28;01mtry\u001b[39;00m:\n\u001b[1;32m-> 3805\u001b[0m     \u001b[38;5;28;01mreturn\u001b[39;00m \u001b[38;5;28;43mself\u001b[39;49m\u001b[38;5;241;43m.\u001b[39;49m\u001b[43m_engine\u001b[49m\u001b[38;5;241;43m.\u001b[39;49m\u001b[43mget_loc\u001b[49m\u001b[43m(\u001b[49m\u001b[43mcasted_key\u001b[49m\u001b[43m)\u001b[49m\n\u001b[0;32m   3806\u001b[0m \u001b[38;5;28;01mexcept\u001b[39;00m \u001b[38;5;167;01mKeyError\u001b[39;00m \u001b[38;5;28;01mas\u001b[39;00m err:\n",
      "File \u001b[1;32mindex.pyx:167\u001b[0m, in \u001b[0;36mpandas._libs.index.IndexEngine.get_loc\u001b[1;34m()\u001b[0m\n",
      "File \u001b[1;32mindex.pyx:196\u001b[0m, in \u001b[0;36mpandas._libs.index.IndexEngine.get_loc\u001b[1;34m()\u001b[0m\n",
      "File \u001b[1;32mpandas\\\\_libs\\\\hashtable_class_helper.pxi:7081\u001b[0m, in \u001b[0;36mpandas._libs.hashtable.PyObjectHashTable.get_item\u001b[1;34m()\u001b[0m\n",
      "File \u001b[1;32mpandas\\\\_libs\\\\hashtable_class_helper.pxi:7089\u001b[0m, in \u001b[0;36mpandas._libs.hashtable.PyObjectHashTable.get_item\u001b[1;34m()\u001b[0m\n",
      "\u001b[1;31mKeyError\u001b[0m: 'city'",
      "\nThe above exception was the direct cause of the following exception:\n",
      "\u001b[1;31mKeyError\u001b[0m                                  Traceback (most recent call last)",
      "Cell \u001b[1;32mIn[11], line 1\u001b[0m\n\u001b[1;32m----> 1\u001b[0m \u001b[43mdf\u001b[49m\u001b[43m[\u001b[49m\u001b[38;5;124;43m'\u001b[39;49m\u001b[38;5;124;43mcity\u001b[39;49m\u001b[38;5;124;43m'\u001b[39;49m\u001b[43m]\u001b[49m\u001b[38;5;241m.\u001b[39munique()\n",
      "File \u001b[1;32mc:\\Users\\utkarsh\\AppData\\Local\\Programs\\Python\\Python312\\Lib\\site-packages\\pandas\\core\\frame.py:4102\u001b[0m, in \u001b[0;36mDataFrame.__getitem__\u001b[1;34m(self, key)\u001b[0m\n\u001b[0;32m   4100\u001b[0m \u001b[38;5;28;01mif\u001b[39;00m \u001b[38;5;28mself\u001b[39m\u001b[38;5;241m.\u001b[39mcolumns\u001b[38;5;241m.\u001b[39mnlevels \u001b[38;5;241m>\u001b[39m \u001b[38;5;241m1\u001b[39m:\n\u001b[0;32m   4101\u001b[0m     \u001b[38;5;28;01mreturn\u001b[39;00m \u001b[38;5;28mself\u001b[39m\u001b[38;5;241m.\u001b[39m_getitem_multilevel(key)\n\u001b[1;32m-> 4102\u001b[0m indexer \u001b[38;5;241m=\u001b[39m \u001b[38;5;28;43mself\u001b[39;49m\u001b[38;5;241;43m.\u001b[39;49m\u001b[43mcolumns\u001b[49m\u001b[38;5;241;43m.\u001b[39;49m\u001b[43mget_loc\u001b[49m\u001b[43m(\u001b[49m\u001b[43mkey\u001b[49m\u001b[43m)\u001b[49m\n\u001b[0;32m   4103\u001b[0m \u001b[38;5;28;01mif\u001b[39;00m is_integer(indexer):\n\u001b[0;32m   4104\u001b[0m     indexer \u001b[38;5;241m=\u001b[39m [indexer]\n",
      "File \u001b[1;32mc:\\Users\\utkarsh\\AppData\\Local\\Programs\\Python\\Python312\\Lib\\site-packages\\pandas\\core\\indexes\\base.py:3812\u001b[0m, in \u001b[0;36mIndex.get_loc\u001b[1;34m(self, key)\u001b[0m\n\u001b[0;32m   3807\u001b[0m     \u001b[38;5;28;01mif\u001b[39;00m \u001b[38;5;28misinstance\u001b[39m(casted_key, \u001b[38;5;28mslice\u001b[39m) \u001b[38;5;129;01mor\u001b[39;00m (\n\u001b[0;32m   3808\u001b[0m         \u001b[38;5;28misinstance\u001b[39m(casted_key, abc\u001b[38;5;241m.\u001b[39mIterable)\n\u001b[0;32m   3809\u001b[0m         \u001b[38;5;129;01mand\u001b[39;00m \u001b[38;5;28many\u001b[39m(\u001b[38;5;28misinstance\u001b[39m(x, \u001b[38;5;28mslice\u001b[39m) \u001b[38;5;28;01mfor\u001b[39;00m x \u001b[38;5;129;01min\u001b[39;00m casted_key)\n\u001b[0;32m   3810\u001b[0m     ):\n\u001b[0;32m   3811\u001b[0m         \u001b[38;5;28;01mraise\u001b[39;00m InvalidIndexError(key)\n\u001b[1;32m-> 3812\u001b[0m     \u001b[38;5;28;01mraise\u001b[39;00m \u001b[38;5;167;01mKeyError\u001b[39;00m(key) \u001b[38;5;28;01mfrom\u001b[39;00m \u001b[38;5;21;01merr\u001b[39;00m\n\u001b[0;32m   3813\u001b[0m \u001b[38;5;28;01mexcept\u001b[39;00m \u001b[38;5;167;01mTypeError\u001b[39;00m:\n\u001b[0;32m   3814\u001b[0m     \u001b[38;5;66;03m# If we have a listlike key, _check_indexing_error will raise\u001b[39;00m\n\u001b[0;32m   3815\u001b[0m     \u001b[38;5;66;03m#  InvalidIndexError. Otherwise we fall through and re-raise\u001b[39;00m\n\u001b[0;32m   3816\u001b[0m     \u001b[38;5;66;03m#  the TypeError.\u001b[39;00m\n\u001b[0;32m   3817\u001b[0m     \u001b[38;5;28mself\u001b[39m\u001b[38;5;241m.\u001b[39m_check_indexing_error(key)\n",
      "\u001b[1;31mKeyError\u001b[0m: 'city'"
     ]
    }
   ],
   "source": [
    "df['city'].nunique()"
   ]
  },
  {
   "cell_type": "code",
   "execution_count": null,
   "id": "4d631df8-1d48-4b9d-b16c-dca33d6a9094",
   "metadata": {},
   "outputs": [],
   "source": [
    "df.drop_duplicates(inplace=True)"
   ]
  },
  {
   "cell_type": "code",
   "execution_count": null,
   "id": "cfb68c57-43e3-4fb7-9fb0-e1777401215e",
   "metadata": {},
   "outputs": [
    {
     "data": {
      "text/plain": [
       "(6590, 8)"
      ]
     },
     "execution_count": 12,
     "metadata": {},
     "output_type": "execute_result"
    }
   ],
   "source": [
    "df.shape"
   ]
  },
  {
   "cell_type": "code",
   "execution_count": null,
   "id": "d7161cd2-ca68-44d9-9413-e5197625862b",
   "metadata": {},
   "outputs": [],
   "source": [
    "df.reset_index(drop = True, inplace = True)"
   ]
  },
  {
   "cell_type": "markdown",
   "id": "0eadb012-ef21-4059-ac0b-d9be8ed925ec",
   "metadata": {},
   "source": [
    "# Processing Location Columns"
   ]
  },
  {
   "cell_type": "code",
   "execution_count": null,
   "id": "d457b74a-90ce-4043-a9cd-eb913c431fce",
   "metadata": {},
   "outputs": [],
   "source": [
    "def extract_area(loc):\n",
    "    splits = loc.split(',')\n",
    "    if len(splits) == 2:\n",
    "        splits.pop(1)\n",
    "    elif len(splits) == 3:\n",
    "        splits.pop(2)\n",
    "    elif len(splits) == 4:\n",
    "        splits.pop(3)\n",
    "    final_loc = ' '.join(l for l in splits)\n",
    "    return final_loc\n",
    "\n",
    "df['Location'] = df['Location'].apply(lambda x: extract_area(x))"
   ]
  },
  {
   "cell_type": "markdown",
   "id": "afd49b6d-e938-4234-a760-7c83d7292ef6",
   "metadata": {},
   "source": [
    "# Preprocessing Cuisine And City"
   ]
  },
  {
   "cell_type": "code",
   "execution_count": null,
   "id": "ca838c1a-0084-42e8-9acd-57e3ea0fed96",
   "metadata": {},
   "outputs": [],
   "source": [
    "def preprocess(cuisine):\n",
    "    cuisine = cuisine.lower()\n",
    "    cuisine = cuisine.replace(',',' ')\n",
    "    return cuisine"
   ]
  },
  {
   "cell_type": "code",
   "execution_count": null,
   "id": "00dd9282-fc54-4d9a-86da-8a4dd8bfc6eb",
   "metadata": {},
   "outputs": [],
   "source": [
    "df['Cuisine'] = df['Cuisine'].apply(lambda x: preprocess(x))\n",
    "df['City'] = df['City'].apply(lambda x: preprocess(x))"
   ]
  },
  {
   "cell_type": "code",
   "execution_count": null,
   "id": "9a327de0-0709-474c-916d-c252f3ca1ba5",
   "metadata": {},
   "outputs": [],
   "source": [
    "unwanted_cols = ['Locality','Votes']\n",
    "df.drop(unwanted_cols,axis=1,inplace=True)"
   ]
  },
  {
   "cell_type": "code",
   "execution_count": null,
   "id": "28596e26-7343-4b2c-bb91-51190baf3c76",
   "metadata": {},
   "outputs": [
    {
     "data": {
      "text/html": [
       "<div>\n",
       "<style scoped>\n",
       "    .dataframe tbody tr th:only-of-type {\n",
       "        vertical-align: middle;\n",
       "    }\n",
       "\n",
       "    .dataframe tbody tr th {\n",
       "        vertical-align: top;\n",
       "    }\n",
       "\n",
       "    .dataframe thead th {\n",
       "        text-align: right;\n",
       "    }\n",
       "</style>\n",
       "<table border=\"1\" class=\"dataframe\">\n",
       "  <thead>\n",
       "    <tr style=\"text-align: right;\">\n",
       "      <th></th>\n",
       "      <th>Name</th>\n",
       "      <th>Location</th>\n",
       "      <th>City</th>\n",
       "      <th>Cuisine</th>\n",
       "      <th>Rating</th>\n",
       "      <th>Cost</th>\n",
       "    </tr>\n",
       "  </thead>\n",
       "  <tbody>\n",
       "    <tr>\n",
       "      <th>0</th>\n",
       "      <td>Local</td>\n",
       "      <td>Scindia House Connaught Place</td>\n",
       "      <td>delhi</td>\n",
       "      <td>north indian   finger food   continental</td>\n",
       "      <td>4.1</td>\n",
       "      <td>2000</td>\n",
       "    </tr>\n",
       "    <tr>\n",
       "      <th>1</th>\n",
       "      <td>The G.T. ROAD</td>\n",
       "      <td>M-Block Connaught Place</td>\n",
       "      <td>delhi</td>\n",
       "      <td>north indian</td>\n",
       "      <td>4.3</td>\n",
       "      <td>1500</td>\n",
       "    </tr>\n",
       "    <tr>\n",
       "      <th>2</th>\n",
       "      <td>Tamasha</td>\n",
       "      <td>Connaught Place</td>\n",
       "      <td>delhi</td>\n",
       "      <td>finger food   north indian   italian   contine...</td>\n",
       "      <td>4.2</td>\n",
       "      <td>2000</td>\n",
       "    </tr>\n",
       "    <tr>\n",
       "      <th>3</th>\n",
       "      <td>The Junkyard Cafe</td>\n",
       "      <td>Connaught Place</td>\n",
       "      <td>delhi</td>\n",
       "      <td>north indian   mediterranean   asian   italian...</td>\n",
       "      <td>4.2</td>\n",
       "      <td>1800</td>\n",
       "    </tr>\n",
       "    <tr>\n",
       "      <th>4</th>\n",
       "      <td>Chili's American Grill and Bar</td>\n",
       "      <td>M-Block Connaught Place</td>\n",
       "      <td>delhi</td>\n",
       "      <td>mexican   american   italian</td>\n",
       "      <td>4.4</td>\n",
       "      <td>2000</td>\n",
       "    </tr>\n",
       "  </tbody>\n",
       "</table>\n",
       "</div>"
      ],
      "text/plain": [
       "                             Name                       Location   City  \\\n",
       "0                           Local  Scindia House Connaught Place  delhi   \n",
       "1                   The G.T. ROAD        M-Block Connaught Place  delhi   \n",
       "2                         Tamasha                Connaught Place  delhi   \n",
       "3               The Junkyard Cafe                Connaught Place  delhi   \n",
       "4  Chili's American Grill and Bar        M-Block Connaught Place  delhi   \n",
       "\n",
       "                                             Cuisine  Rating  Cost  \n",
       "0           north indian   finger food   continental     4.1  2000  \n",
       "1                                       north indian     4.3  1500  \n",
       "2  finger food   north indian   italian   contine...     4.2  2000  \n",
       "3  north indian   mediterranean   asian   italian...     4.2  1800  \n",
       "4                       mexican   american   italian     4.4  2000  "
      ]
     },
     "execution_count": 18,
     "metadata": {},
     "output_type": "execute_result"
    }
   ],
   "source": [
    "df.head()"
   ]
  },
  {
   "cell_type": "markdown",
   "id": "a17209a6-97cd-49b2-b655-3f5f6a236112",
   "metadata": {},
   "source": [
    "# Recommend me a Restraunt"
   ]
  },
  {
   "cell_type": "code",
   "execution_count": null,
   "id": "3a60376c-668c-4546-898b-88c1af34e0be",
   "metadata": {},
   "outputs": [],
   "source": [
    "\n",
    "\n",
    "def recommend_restaurant(city, cuisine, cost):\n",
    "    cuisine = cuisine.lower()\n",
    "\n",
    "    # Filtering the cuisine set\n",
    "    stop_words = set(stopwords.words('english'))\n",
    "    filtered = {word for word in word_tokenize(cuisine) if word not in stop_words}\n",
    "\n",
    "    # Filtering the dataset based on input city and cost\n",
    "    city_df = df[df['City'].str.lower() == city.lower()]\n",
    "    city_df = city_df[city_df['Cost'] <= int(cost)]\n",
    "    city_df = city_df.set_index(np.arange(city_df.shape[0]))\n",
    "\n",
    "    cos = []\n",
    "    for i in range(city_df.shape[0]):\n",
    "        temp_token = word_tokenize(city_df[\"Cuisine\"][i])\n",
    "        temp_set = {word for word in temp_token if word not in stop_words}\n",
    "        vector = temp_set.intersection(filtered)\n",
    "        cos.append(len(vector))\n",
    "    \n",
    "    # Assigning similarity scores\n",
    "    city_df['similarity'] = cos\n",
    "\n",
    "    # Sorting based on similarity and rating\n",
    "    city_df = city_df.sort_values(by=['similarity', 'Rating'], ascending=[False, False])\n",
    "    city_df.reset_index(drop=True, inplace=True)\n",
    "    \n",
    "    return city_df[[\"Name\", \"Location\", \"Rating\"]].head()\n"
   ]
  },
  {
   "cell_type": "code",
   "execution_count": null,
   "id": "06e0501c",
   "metadata": {},
   "outputs": [
    {
     "name": "stdout",
     "output_type": "stream",
     "text": [
      "                             Name                              Location  \\\n",
      "0                       Bistro 55                             Paharganj   \n",
      "1                  The Waffle Co.                        Rajinder Nagar   \n",
      "2                       Bake Club                      East Patel Nagar   \n",
      "3                 3 Friends Pizza                          Pandav Nagar   \n",
      "4                    Cafe Emoji's                             Moti Bagh   \n",
      "..                            ...                                   ...   \n",
      "99                  PUBG Foodcity                           Uttam Nagar   \n",
      "100                 Bubble Waffle                           Karkardooma   \n",
      "101                        Subway                           Karkardooma   \n",
      "102  Six Degree Cakes and Coffees  Safdarjung Enclave Market Safdarjung   \n",
      "103                         Giani                         Subhash Nagar   \n",
      "\n",
      "      City                                            Cuisine  Rating  Cost  \\\n",
      "0    delhi  multi-cuisine   north indian   italian   chine...     5.0   500   \n",
      "1    delhi                         desserts   waffle   shakes     5.0   400   \n",
      "2    delhi    bakery and confectionary   desserts   fast food     5.0   500   \n",
      "3    delhi                                              pizza     5.0   400   \n",
      "4    delhi                                          fast food     5.0   500   \n",
      "..     ...                                                ...     ...   ...   \n",
      "99   delhi                                fast food   chinese     3.0   400   \n",
      "100  delhi             desserts   waffle   fast food   shakes     2.0   500   \n",
      "101  delhi                                        health food     1.0   500   \n",
      "102  delhi                           bakery and confectionary     1.0   500   \n",
      "103  delhi                      desserts   ice cream   shakes     1.0   400   \n",
      "\n",
      "     similarity  \n",
      "0             0  \n",
      "1             0  \n",
      "2             0  \n",
      "3             0  \n",
      "4             0  \n",
      "..          ...  \n",
      "99            0  \n",
      "100           0  \n",
      "101           0  \n",
      "102           0  \n",
      "103           0  \n",
      "\n",
      "[104 rows x 7 columns]\n"
     ]
    },
    {
     "data": {
      "text/html": [
       "<div>\n",
       "<style scoped>\n",
       "    .dataframe tbody tr th:only-of-type {\n",
       "        vertical-align: middle;\n",
       "    }\n",
       "\n",
       "    .dataframe tbody tr th {\n",
       "        vertical-align: top;\n",
       "    }\n",
       "\n",
       "    .dataframe thead th {\n",
       "        text-align: right;\n",
       "    }\n",
       "</style>\n",
       "<table border=\"1\" class=\"dataframe\">\n",
       "  <thead>\n",
       "    <tr style=\"text-align: right;\">\n",
       "      <th></th>\n",
       "      <th>Name</th>\n",
       "      <th>Location</th>\n",
       "      <th>Rating</th>\n",
       "    </tr>\n",
       "  </thead>\n",
       "  <tbody>\n",
       "    <tr>\n",
       "      <th>0</th>\n",
       "      <td>Bistro 55</td>\n",
       "      <td>Paharganj</td>\n",
       "      <td>5.0</td>\n",
       "    </tr>\n",
       "    <tr>\n",
       "      <th>1</th>\n",
       "      <td>The Waffle Co.</td>\n",
       "      <td>Rajinder Nagar</td>\n",
       "      <td>5.0</td>\n",
       "    </tr>\n",
       "    <tr>\n",
       "      <th>2</th>\n",
       "      <td>Bake Club</td>\n",
       "      <td>East Patel Nagar</td>\n",
       "      <td>5.0</td>\n",
       "    </tr>\n",
       "    <tr>\n",
       "      <th>3</th>\n",
       "      <td>3 Friends Pizza</td>\n",
       "      <td>Pandav Nagar</td>\n",
       "      <td>5.0</td>\n",
       "    </tr>\n",
       "    <tr>\n",
       "      <th>4</th>\n",
       "      <td>Cafe Emoji's</td>\n",
       "      <td>Moti Bagh</td>\n",
       "      <td>5.0</td>\n",
       "    </tr>\n",
       "  </tbody>\n",
       "</table>\n",
       "</div>"
      ],
      "text/plain": [
       "              Name          Location  Rating\n",
       "0        Bistro 55         Paharganj     5.0\n",
       "1   The Waffle Co.    Rajinder Nagar     5.0\n",
       "2        Bake Club  East Patel Nagar     5.0\n",
       "3  3 Friends Pizza      Pandav Nagar     5.0\n",
       "4     Cafe Emoji's         Moti Bagh     5.0"
      ]
     },
     "execution_count": 27,
     "metadata": {},
     "output_type": "execute_result"
    }
   ],
   "source": [
    "recommend_restaurant(\"Delhi\",\"Dessert\",500)"
   ]
  },
  {
   "cell_type": "code",
   "execution_count": null,
   "id": "cf36bdc5-2edd-4595-bd96-136ddfef84c4",
   "metadata": {},
   "outputs": [
    {
     "data": {
      "text/html": [
       "<div>\n",
       "<style scoped>\n",
       "    .dataframe tbody tr th:only-of-type {\n",
       "        vertical-align: middle;\n",
       "    }\n",
       "\n",
       "    .dataframe tbody tr th {\n",
       "        vertical-align: top;\n",
       "    }\n",
       "\n",
       "    .dataframe thead th {\n",
       "        text-align: right;\n",
       "    }\n",
       "</style>\n",
       "<table border=\"1\" class=\"dataframe\">\n",
       "  <thead>\n",
       "    <tr style=\"text-align: right;\">\n",
       "      <th></th>\n",
       "      <th>Name</th>\n",
       "      <th>Location</th>\n",
       "      <th>Rating</th>\n",
       "    </tr>\n",
       "  </thead>\n",
       "  <tbody>\n",
       "    <tr>\n",
       "      <th>0</th>\n",
       "      <td>Elementaria Bakery Cafe</td>\n",
       "      <td>Powai</td>\n",
       "      <td>5.0</td>\n",
       "    </tr>\n",
       "    <tr>\n",
       "      <th>1</th>\n",
       "      <td>Wowfillss</td>\n",
       "      <td>Parel</td>\n",
       "      <td>5.0</td>\n",
       "    </tr>\n",
       "    <tr>\n",
       "      <th>2</th>\n",
       "      <td>The Pancake Story</td>\n",
       "      <td>Narayan Niwas Vile Parle East</td>\n",
       "      <td>5.0</td>\n",
       "    </tr>\n",
       "    <tr>\n",
       "      <th>3</th>\n",
       "      <td>99 Pancakes</td>\n",
       "      <td>Silver Croft Building Bandra West</td>\n",
       "      <td>5.0</td>\n",
       "    </tr>\n",
       "    <tr>\n",
       "      <th>4</th>\n",
       "      <td>Frozen Bottle</td>\n",
       "      <td>Hiranandani</td>\n",
       "      <td>4.7</td>\n",
       "    </tr>\n",
       "  </tbody>\n",
       "</table>\n",
       "</div>"
      ],
      "text/plain": [
       "                      Name                           Location  Rating\n",
       "0  Elementaria Bakery Cafe                              Powai     5.0\n",
       "1                Wowfillss                              Parel     5.0\n",
       "2        The Pancake Story      Narayan Niwas Vile Parle East     5.0\n",
       "3              99 Pancakes  Silver Croft Building Bandra West     5.0\n",
       "4            Frozen Bottle                        Hiranandani     4.7"
      ]
     },
     "execution_count": 25,
     "metadata": {},
     "output_type": "execute_result"
    }
   ],
   "source": [
    "ans = recommend_restaurant('Mumbai','Desserts',2000)\n",
    "ans"
   ]
  },
  {
   "cell_type": "code",
   "execution_count": null,
   "id": "c899f204",
   "metadata": {},
   "outputs": [
    {
     "data": {
      "text/html": [
       "<div>\n",
       "<style scoped>\n",
       "    .dataframe tbody tr th:only-of-type {\n",
       "        vertical-align: middle;\n",
       "    }\n",
       "\n",
       "    .dataframe tbody tr th {\n",
       "        vertical-align: top;\n",
       "    }\n",
       "\n",
       "    .dataframe thead th {\n",
       "        text-align: right;\n",
       "    }\n",
       "</style>\n",
       "<table border=\"1\" class=\"dataframe\">\n",
       "  <thead>\n",
       "    <tr style=\"text-align: right;\">\n",
       "      <th></th>\n",
       "      <th>Name</th>\n",
       "      <th>Location</th>\n",
       "      <th>City</th>\n",
       "      <th>Cuisine</th>\n",
       "      <th>Rating</th>\n",
       "      <th>Cost</th>\n",
       "    </tr>\n",
       "  </thead>\n",
       "  <tbody>\n",
       "    <tr>\n",
       "      <th>0</th>\n",
       "      <td>Local</td>\n",
       "      <td>Scindia House Connaught Place</td>\n",
       "      <td>delhi</td>\n",
       "      <td>north indian   finger food   continental</td>\n",
       "      <td>4.1</td>\n",
       "      <td>2000</td>\n",
       "    </tr>\n",
       "    <tr>\n",
       "      <th>1</th>\n",
       "      <td>The G.T. ROAD</td>\n",
       "      <td>M-Block Connaught Place</td>\n",
       "      <td>delhi</td>\n",
       "      <td>north indian</td>\n",
       "      <td>4.3</td>\n",
       "      <td>1500</td>\n",
       "    </tr>\n",
       "    <tr>\n",
       "      <th>2</th>\n",
       "      <td>Tamasha</td>\n",
       "      <td>Connaught Place</td>\n",
       "      <td>delhi</td>\n",
       "      <td>finger food   north indian   italian   contine...</td>\n",
       "      <td>4.2</td>\n",
       "      <td>2000</td>\n",
       "    </tr>\n",
       "    <tr>\n",
       "      <th>3</th>\n",
       "      <td>The Junkyard Cafe</td>\n",
       "      <td>Connaught Place</td>\n",
       "      <td>delhi</td>\n",
       "      <td>north indian   mediterranean   asian   italian...</td>\n",
       "      <td>4.2</td>\n",
       "      <td>1800</td>\n",
       "    </tr>\n",
       "    <tr>\n",
       "      <th>4</th>\n",
       "      <td>Chili's American Grill and Bar</td>\n",
       "      <td>M-Block Connaught Place</td>\n",
       "      <td>delhi</td>\n",
       "      <td>mexican   american   italian</td>\n",
       "      <td>4.4</td>\n",
       "      <td>2000</td>\n",
       "    </tr>\n",
       "  </tbody>\n",
       "</table>\n",
       "</div>"
      ],
      "text/plain": [
       "                             Name                       Location   City  \\\n",
       "0                           Local  Scindia House Connaught Place  delhi   \n",
       "1                   The G.T. ROAD        M-Block Connaught Place  delhi   \n",
       "2                         Tamasha                Connaught Place  delhi   \n",
       "3               The Junkyard Cafe                Connaught Place  delhi   \n",
       "4  Chili's American Grill and Bar        M-Block Connaught Place  delhi   \n",
       "\n",
       "                                             Cuisine  Rating  Cost  \n",
       "0           north indian   finger food   continental     4.1  2000  \n",
       "1                                       north indian     4.3  1500  \n",
       "2  finger food   north indian   italian   contine...     4.2  2000  \n",
       "3  north indian   mediterranean   asian   italian...     4.2  1800  \n",
       "4                       mexican   american   italian     4.4  2000  "
      ]
     },
     "execution_count": 21,
     "metadata": {},
     "output_type": "execute_result"
    }
   ],
   "source": [
    "df.head()"
   ]
  },
  {
   "cell_type": "code",
   "execution_count": null,
   "id": "f7e29e4b",
   "metadata": {},
   "outputs": [],
   "source": [
    "import pickle"
   ]
  },
  {
   "cell_type": "code",
   "execution_count": null,
   "id": "dbc54dab",
   "metadata": {},
   "outputs": [],
   "source": [
    "pickle.dump(df, open('hotel.pkl', 'wb'))"
   ]
  }
 ],
 "metadata": {
  "kernelspec": {
   "display_name": "Python 3",
   "language": "python",
   "name": "python3"
  },
  "language_info": {
   "codemirror_mode": {
    "name": "ipython",
    "version": 3
   },
   "file_extension": ".py",
   "mimetype": "text/x-python",
   "name": "python",
   "nbconvert_exporter": "python",
   "pygments_lexer": "ipython3",
   "version": "3.12.5"
  }
 },
 "nbformat": 4,
 "nbformat_minor": 5
}
